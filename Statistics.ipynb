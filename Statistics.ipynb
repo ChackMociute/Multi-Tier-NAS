{
 "cells": [
  {
   "cell_type": "markdown",
   "id": "3b087063-e80b-48e1-8bb8-f8d1dda1240c",
   "metadata": {},
   "source": [
    "# Plots"
   ]
  },
  {
   "cell_type": "code",
   "execution_count": 1,
   "id": "1cde7e43-41c3-47ff-9356-3c961171c74d",
   "metadata": {
    "tags": []
   },
   "outputs": [],
   "source": [
    "import numpy as np\n",
    "import pandas as pd\n",
    "import matplotlib.pyplot as plt\n",
    "from scipy.stats import ttest_ind\n",
    "\n",
    "pd.options.mode.chained_assignment = None"
   ]
  },
  {
   "cell_type": "code",
   "execution_count": 2,
   "id": "7e287939-93bb-4c3f-ab17-f77f94d88ad1",
   "metadata": {
    "tags": []
   },
   "outputs": [],
   "source": [
    "df = pd.read_json('experiments/results/nasbench201/cifar10/tier2high/averages.json').dropna(axis=1, how='all')\n",
    "df.columns = pd.MultiIndex.from_tuples(df.columns.map(eval)).rename(['algorithm', 'seed'], level=[0, 1])\n",
    "df.index.rename('epoch', inplace=True)\n",
    "df = df.stack([0, 1]).groupby(['epoch', 'algorithm']).mean().unstack(1).drop(('estm', 're'), axis=1)\n",
    "df.true.re[50:50 + df.true.re.dropna().shape[0]] = df.true.re.dropna()\n",
    "df.true.re[:50] = np.nan\n",
    "t2h = df\n",
    "\n",
    "df = pd.read_json('experiments/results/nasbench201/cifar10/default/averages.json').dropna(axis=1, how='all')\n",
    "df.columns = pd.MultiIndex.from_tuples(df.columns.map(eval)).rename(['algorithm', 'seed'], level=[0, 1])\n",
    "df.index.rename('epoch', inplace=True)\n",
    "df = df.stack([0, 1]).groupby(['epoch', 'algorithm']).mean().unstack(1).drop(('estm', 're'), axis=1)\n",
    "df.true.re[50:50 + df.true.re.dropna().shape[0]] = df.true.re.dropna()\n",
    "df.true.re[:50] = np.nan\n",
    "dflt = df"
   ]
  },
  {
   "cell_type": "code",
   "execution_count": 3,
   "id": "bd0de048-5bef-4dab-8358-260b89f6d856",
   "metadata": {
    "tags": []
   },
   "outputs": [
    {
     "data": {
      "text/plain": [
       "88.24615332225912"
      ]
     },
     "execution_count": 3,
     "metadata": {},
     "output_type": "execute_result"
    }
   ],
   "source": [
    "t2h.true.mtnas.mean()"
   ]
  },
  {
   "cell_type": "code",
   "execution_count": 4,
   "id": "ee93eb88-3969-48cc-b80f-7b7f67b9ff62",
   "metadata": {
    "tags": []
   },
   "outputs": [
    {
     "data": {
      "text/plain": [
       "88.21472592469546"
      ]
     },
     "execution_count": 4,
     "metadata": {},
     "output_type": "execute_result"
    }
   ],
   "source": [
    "dflt.true.mtnas.mean()"
   ]
  },
  {
   "cell_type": "code",
   "execution_count": 5,
   "id": "a13ee133-8260-435c-b040-bf4086e86184",
   "metadata": {
    "tags": []
   },
   "outputs": [
    {
     "data": {
      "text/plain": [
       "Ttest_indResult(statistic=0.25740103551671756, pvalue=0.7969574542314518)"
      ]
     },
     "execution_count": 5,
     "metadata": {},
     "output_type": "execute_result"
    }
   ],
   "source": [
    "ttest_ind(t2h.true.mtnas, dflt.true.mtnas)"
   ]
  }
 ],
 "metadata": {
  "kernelspec": {
   "display_name": "thesis",
   "language": "python",
   "name": "thesis"
  },
  "language_info": {
   "codemirror_mode": {
    "name": "ipython",
    "version": 3
   },
   "file_extension": ".py",
   "mimetype": "text/x-python",
   "name": "python",
   "nbconvert_exporter": "python",
   "pygments_lexer": "ipython3",
   "version": "3.8.16"
  }
 },
 "nbformat": 4,
 "nbformat_minor": 5
}
