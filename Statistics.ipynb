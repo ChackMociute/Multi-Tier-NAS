{
 "cells": [
  {
   "cell_type": "markdown",
   "id": "3b087063-e80b-48e1-8bb8-f8d1dda1240c",
   "metadata": {},
   "source": [
    "# Statistics"
   ]
  },
  {
   "cell_type": "code",
   "execution_count": 1,
   "id": "1cde7e43-41c3-47ff-9356-3c961171c74d",
   "metadata": {
    "tags": []
   },
   "outputs": [],
   "source": [
    "import numpy as np\n",
    "import pandas as pd\n",
    "import matplotlib.pyplot as plt\n",
    "from scipy.stats import ttest_ind\n",
    "\n",
    "pd.options.mode.chained_assignment = None"
   ]
  },
  {
   "cell_type": "markdown",
   "id": "46916fe0-60cb-42a5-811f-c6fd99c991b0",
   "metadata": {},
   "source": [
    "## Search strategy comparison"
   ]
  },
  {
   "cell_type": "code",
   "execution_count": 2,
   "id": "5529c9df-00ea-4ba3-9cf2-7e23258ef0c8",
   "metadata": {
    "tags": []
   },
   "outputs": [
    {
     "name": "stdout",
     "output_type": "stream",
     "text": [
      "mtnas    91.426250\n",
      "re       91.241500\n",
      "rs       90.842125\n",
      "dtype: float64\n",
      "Ttest_indResult(statistic=6.042331524711918, pvalue=5.2559089977953775e-09)\n",
      "Ttest_indResult(statistic=17.877307026359638, pvalue=4.312771850302285e-40)\n",
      "\n",
      "mtnas    91.280625\n",
      "re       91.241500\n",
      "rs       90.842125\n",
      "dtype: float64\n",
      "Ttest_indResult(statistic=1.1070503891769659, pvalue=0.13497736015456394)\n",
      "Ttest_indResult(statistic=11.796581338527181, pvalue=9.780309661115345e-24)\n"
     ]
    }
   ],
   "source": [
    "df = pd.read_json('experiments/results/nasbench201/cifar10/tier1absent/accuracies.json')\n",
    "print(df.mean())\n",
    "print(ttest_ind(df.mtnas, df.re, alternative='greater'))\n",
    "print(ttest_ind(df.mtnas, df.rs, alternative='greater'))\n",
    "print()\n",
    "\n",
    "df = pd.read_json('experiments/results/nasbench201/cifar10/tier2absent/accuracies.json')\n",
    "print(df.mean())\n",
    "print(ttest_ind(df.mtnas, df.re, alternative='greater'))\n",
    "print(ttest_ind(df.mtnas, df.rs, alternative='greater'))"
   ]
  },
  {
   "cell_type": "markdown",
   "id": "b58f5d08-ada0-4cb9-b2b9-476cb2fd0195",
   "metadata": {},
   "source": [
    "## Averages"
   ]
  },
  {
   "cell_type": "code",
   "execution_count": 3,
   "id": "7e287939-93bb-4c3f-ab17-f77f94d88ad1",
   "metadata": {
    "tags": []
   },
   "outputs": [],
   "source": [
    "def per_epoch_averages(paths):\n",
    "    dfs = list()\n",
    "    for path in paths:\n",
    "        df = pd.read_json(path).dropna(axis=1, how='all')\n",
    "        df.columns = pd.MultiIndex.from_tuples(df.columns.map(eval)).rename(['algorithm', 'seed'], level=[0, 1])\n",
    "        df.index.rename('epoch', inplace=True)\n",
    "        df = df.stack([0, 1]).groupby(['epoch', 'algorithm']).mean().unstack(1).drop(('estm', 're'), axis=1)\n",
    "        df.true.re[50:50 + df.true.re.dropna().shape[0]] = df.true.re.dropna()\n",
    "        df.true.re[:50] = np.nan\n",
    "        dfs.append(df)\n",
    "    return dfs"
   ]
  },
  {
   "cell_type": "code",
   "execution_count": 4,
   "id": "eaeb5e08-9727-43f2-9c2c-062b6ca9f2c0",
   "metadata": {
    "tags": []
   },
   "outputs": [],
   "source": [
    "t2h, dflt = per_epoch_averages(('experiments/results/nasbench201/cifar10/tier2high/averages.json',\n",
    "                                'experiments/results/nasbench201/cifar10/default/averages.json'))"
   ]
  },
  {
   "cell_type": "code",
   "execution_count": 5,
   "id": "a13ee133-8260-435c-b040-bf4086e86184",
   "metadata": {
    "tags": []
   },
   "outputs": [
    {
     "data": {
      "text/plain": [
       "Ttest_indResult(statistic=0.25740103551671756, pvalue=0.7969574542314518)"
      ]
     },
     "execution_count": 5,
     "metadata": {},
     "output_type": "execute_result"
    }
   ],
   "source": [
    "ttest_ind(t2h.true.mtnas, dflt.true.mtnas)"
   ]
  }
 ],
 "metadata": {
  "kernelspec": {
   "display_name": "thesis",
   "language": "python",
   "name": "thesis"
  },
  "language_info": {
   "codemirror_mode": {
    "name": "ipython",
    "version": 3
   },
   "file_extension": ".py",
   "mimetype": "text/x-python",
   "name": "python",
   "nbconvert_exporter": "python",
   "pygments_lexer": "ipython3",
   "version": "3.8.16"
  }
 },
 "nbformat": 4,
 "nbformat_minor": 5
}
