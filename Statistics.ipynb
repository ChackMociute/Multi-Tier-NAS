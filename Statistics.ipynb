{
 "cells": [
  {
   "cell_type": "markdown",
   "id": "3b087063-e80b-48e1-8bb8-f8d1dda1240c",
   "metadata": {},
   "source": [
    "# Statistics"
   ]
  },
  {
   "cell_type": "code",
   "execution_count": 1,
   "id": "1cde7e43-41c3-47ff-9356-3c961171c74d",
   "metadata": {
    "tags": []
   },
   "outputs": [],
   "source": [
    "import numpy as np\n",
    "import pandas as pd\n",
    "import matplotlib.pyplot as plt\n",
    "from scipy.stats import ttest_ind\n",
    "\n",
    "pd.options.mode.chained_assignment = None"
   ]
  },
  {
   "cell_type": "markdown",
   "id": "46916fe0-60cb-42a5-811f-c6fd99c991b0",
   "metadata": {},
   "source": [
    "## Search strategy comparison"
   ]
  },
  {
   "cell_type": "markdown",
   "id": "f20dcec7-bb8f-4a29-b8de-2883b898a8c5",
   "metadata": {},
   "source": [
    "### Ablation"
   ]
  },
  {
   "cell_type": "code",
   "execution_count": 2,
   "id": "5529c9df-00ea-4ba3-9cf2-7e23258ef0c8",
   "metadata": {
    "tags": []
   },
   "outputs": [
    {
     "name": "stdout",
     "output_type": "stream",
     "text": [
      "mtnas    91.426250\n",
      "re       91.241500\n",
      "rs       90.842125\n",
      "dtype: float64\n",
      "Ttest_indResult(statistic=6.042331524711918, pvalue=5.2559089977953775e-09)\n",
      "Ttest_indResult(statistic=17.877307026359638, pvalue=4.312771850302285e-40)\n",
      "\n",
      "mtnas    91.280625\n",
      "re       91.241500\n",
      "rs       90.842125\n",
      "dtype: float64\n",
      "Ttest_indResult(statistic=1.1070503891769659, pvalue=0.13497736015456394)\n",
      "Ttest_indResult(statistic=11.796581338527181, pvalue=9.780309661115345e-24)\n"
     ]
    }
   ],
   "source": [
    "df = pd.read_json('experiments/results/nasbench201/cifar10/tier1absent/accuracies.json')\n",
    "print(df.mean())\n",
    "print(ttest_ind(df.mtnas, df.re, alternative='greater'))\n",
    "print(ttest_ind(df.mtnas, df.rs, alternative='greater'))\n",
    "print()\n",
    "\n",
    "df = pd.read_json('experiments/results/nasbench201/cifar10/tier2absent/accuracies.json')\n",
    "print(df.mean())\n",
    "print(ttest_ind(df.mtnas, df.re, alternative='greater'))\n",
    "print(ttest_ind(df.mtnas, df.rs, alternative='greater'))"
   ]
  },
  {
   "cell_type": "markdown",
   "id": "c26be89d-c58f-406b-9267-fc63d94732a7",
   "metadata": {},
   "source": [
    "### Trials"
   ]
  },
  {
   "cell_type": "markdown",
   "id": "fb6258ef-9b4e-4d45-90b0-a16b4eedfdc9",
   "metadata": {},
   "source": [
    "#### default"
   ]
  },
  {
   "cell_type": "code",
   "execution_count": 3,
   "id": "3648a6c2-8200-45b9-9747-2cff078dddf2",
   "metadata": {
    "tags": []
   },
   "outputs": [
    {
     "name": "stdout",
     "output_type": "stream",
     "text": [
      "mtnas    91.331875\n",
      "re       91.241500\n",
      "rs       90.842125\n",
      "dtype: float64\n",
      "Ttest_indResult(statistic=2.70478360863588, pvalue=0.003792298242765802)\n",
      "Ttest_indResult(statistic=13.85699587468626, pvalue=2.1877451179047022e-29)\n"
     ]
    }
   ],
   "source": [
    "df = pd.read_json('experiments/results/nasbench201/cifar10/default/accuracies.json')\n",
    "print(df.mean())\n",
    "print(ttest_ind(df.mtnas, df.re, alternative='greater'))\n",
    "print(ttest_ind(df.mtnas, df.rs, alternative='greater'))"
   ]
  },
  {
   "cell_type": "markdown",
   "id": "01fdf679-87be-4abc-b918-c0eadbc75002",
   "metadata": {},
   "source": [
    "#### cifar100default"
   ]
  },
  {
   "cell_type": "code",
   "execution_count": 4,
   "id": "1a159228-5bff-4ada-b21d-d08e9c8a5046",
   "metadata": {
    "tags": []
   },
   "outputs": [
    {
     "name": "stdout",
     "output_type": "stream",
     "text": [
      "mtnas    73.10050\n",
      "re       72.99750\n",
      "rs       71.72375\n",
      "dtype: float64\n",
      "Ttest_indResult(statistic=1.7873404624603846, pvalue=0.037899716841888656)\n",
      "Ttest_indResult(statistic=14.72350171449106, pvalue=9.621701229917489e-32)\n"
     ]
    }
   ],
   "source": [
    "df = pd.read_json('experiments/results/nasbench201/cifar100/default/accuracies.json')\n",
    "print(df.mean())\n",
    "print(ttest_ind(df.mtnas, df.re, alternative='greater'))\n",
    "print(ttest_ind(df.mtnas, df.rs, alternative='greater'))"
   ]
  },
  {
   "cell_type": "markdown",
   "id": "8e4e2bf2-9c93-4e00-bf56-7e6818b84ef7",
   "metadata": {},
   "source": [
    "#### in120default"
   ]
  },
  {
   "cell_type": "code",
   "execution_count": 5,
   "id": "c135c120-af22-4dde-983b-75986029a422",
   "metadata": {
    "tags": []
   },
   "outputs": [
    {
     "name": "stdout",
     "output_type": "stream",
     "text": [
      "mtnas    47.062083\n",
      "re       46.743333\n",
      "rs       45.827083\n",
      "dtype: float64\n",
      "Ttest_indResult(statistic=4.9380237526085295, pvalue=9.946582569053761e-07)\n",
      "Ttest_indResult(statistic=16.4280295919051, pvalue=2.6233442342414757e-36)\n"
     ]
    }
   ],
   "source": [
    "df = pd.read_json('experiments/results/nasbench201/ImageNet16-120/default/accuracies.json')\n",
    "print(df.mean())\n",
    "print(ttest_ind(df.mtnas, df.re, alternative='greater'))\n",
    "print(ttest_ind(df.mtnas, df.rs, alternative='greater'))"
   ]
  },
  {
   "cell_type": "markdown",
   "id": "03392b1b-1be4-4471-ba43-f2f94bb9bae4",
   "metadata": {},
   "source": [
    "#### tse"
   ]
  },
  {
   "cell_type": "code",
   "execution_count": 6,
   "id": "aca3cd00-8750-4aa8-b137-4abdc3f9e99f",
   "metadata": {
    "tags": []
   },
   "outputs": [
    {
     "name": "stdout",
     "output_type": "stream",
     "text": [
      "mtnas    91.351375\n",
      "re       91.241500\n",
      "rs       90.842125\n",
      "dtype: float64\n",
      "Ttest_indResult(statistic=3.2189864769011, pvalue=0.0007806978420492226)\n",
      "Ttest_indResult(statistic=14.13602738367062, pvalue=3.793075729529861e-30)\n"
     ]
    }
   ],
   "source": [
    "df = pd.read_json('experiments/results/nasbench201/cifar10/tier2sum/accuracies.json')\n",
    "print(df.mean())\n",
    "print(ttest_ind(df.mtnas, df.re, alternative='greater'))\n",
    "print(ttest_ind(df.mtnas, df.rs, alternative='greater'))"
   ]
  },
  {
   "cell_type": "markdown",
   "id": "6aa4b4c3-b5f7-4bfb-81fa-d72c36891940",
   "metadata": {},
   "source": [
    "#### tier1high"
   ]
  },
  {
   "cell_type": "code",
   "execution_count": 7,
   "id": "5b3b2b0e-ffd2-4b9e-8863-460d1cf74e13",
   "metadata": {
    "tags": []
   },
   "outputs": [
    {
     "name": "stdout",
     "output_type": "stream",
     "text": [
      "mtnas    91.332375\n",
      "re       91.241500\n",
      "rs       90.842125\n",
      "dtype: float64\n",
      "Ttest_indResult(statistic=2.707642794292826, pvalue=0.003761246514229957)\n",
      "Ttest_indResult(statistic=13.815925177455476, pvalue=2.832398069243961e-29)\n"
     ]
    }
   ],
   "source": [
    "df = pd.read_json('experiments/results/nasbench201/cifar10/tier1high/accuracies.json')\n",
    "print(df.mean())\n",
    "print(ttest_ind(df.mtnas, df.re, alternative='greater'))\n",
    "print(ttest_ind(df.mtnas, df.rs, alternative='greater'))"
   ]
  },
  {
   "cell_type": "markdown",
   "id": "243fd5f0-0bbf-482e-92e7-5b8b58e37ac2",
   "metadata": {},
   "source": [
    "#### tier2high"
   ]
  },
  {
   "cell_type": "code",
   "execution_count": 8,
   "id": "6631d4b0-6f06-4d44-8bfd-559ebb7c5320",
   "metadata": {
    "tags": []
   },
   "outputs": [
    {
     "name": "stdout",
     "output_type": "stream",
     "text": [
      "mtnas    91.349875\n",
      "re       91.241500\n",
      "rs       90.842125\n",
      "dtype: float64\n",
      "Ttest_indResult(statistic=3.1921788577755947, pvalue=0.000852001849426781)\n",
      "Ttest_indResult(statistic=14.162629557596885, pvalue=3.210216856460548e-30)\n"
     ]
    }
   ],
   "source": [
    "df = pd.read_json('experiments/results/nasbench201/cifar10/tier2high/accuracies.json')\n",
    "print(df.mean())\n",
    "print(ttest_ind(df.mtnas, df.re, alternative='greater'))\n",
    "print(ttest_ind(df.mtnas, df.rs, alternative='greater'))"
   ]
  },
  {
   "cell_type": "markdown",
   "id": "f89bdb47-35b1-43b2-81f2-bd6320660e89",
   "metadata": {},
   "source": [
    "#### equal"
   ]
  },
  {
   "cell_type": "code",
   "execution_count": 9,
   "id": "80c0f3bd-b501-428e-a3e4-068615192a47",
   "metadata": {
    "tags": []
   },
   "outputs": [
    {
     "name": "stdout",
     "output_type": "stream",
     "text": [
      "mtnas    91.387125\n",
      "re       91.241500\n",
      "rs       90.842125\n",
      "dtype: float64\n",
      "Ttest_indResult(statistic=4.186463066247939, pvalue=2.3459116518486994e-05)\n",
      "Ttest_indResult(statistic=14.87336450080814, pvalue=3.782575488584805e-32)\n"
     ]
    }
   ],
   "source": [
    "df = pd.read_json('experiments/results/nasbench201/cifar10/equal/accuracies.json')\n",
    "print(df.mean())\n",
    "print(ttest_ind(df.mtnas, df.re, alternative='greater'))\n",
    "print(ttest_ind(df.mtnas, df.rs, alternative='greater'))"
   ]
  },
  {
   "cell_type": "markdown",
   "id": "2b4f5340-80c7-4dfd-89d4-64aa3287ee9f",
   "metadata": {},
   "source": [
    "#### disjoint"
   ]
  },
  {
   "cell_type": "code",
   "execution_count": 10,
   "id": "798e0a8f-29db-4fee-ab68-97ea1c91ef8a",
   "metadata": {
    "tags": []
   },
   "outputs": [
    {
     "name": "stdout",
     "output_type": "stream",
     "text": [
      "mtnas    91.288750\n",
      "re       91.241500\n",
      "rs       90.842125\n",
      "dtype: float64\n",
      "Ttest_indResult(statistic=1.3143969670827855, pvalue=0.09530876290963342)\n",
      "Ttest_indResult(statistic=11.831507621793492, pvalue=7.844047879388568e-24)\n"
     ]
    }
   ],
   "source": [
    "df = pd.read_json('experiments/results/nasbench201/cifar10/disjoint/accuracies.json')\n",
    "print(df.mean())\n",
    "print(ttest_ind(df.mtnas, df.re, alternative='greater'))\n",
    "print(ttest_ind(df.mtnas, df.rs, alternative='greater'))"
   ]
  },
  {
   "cell_type": "markdown",
   "id": "53c58253-a859-4208-9aac-9ee64d83321d",
   "metadata": {},
   "source": [
    "#### reevaluate"
   ]
  },
  {
   "cell_type": "code",
   "execution_count": 11,
   "id": "dc6afc1b-d3d7-4415-a063-7c35528c7593",
   "metadata": {
    "tags": []
   },
   "outputs": [
    {
     "name": "stdout",
     "output_type": "stream",
     "text": [
      "mtnas    91.372750\n",
      "re       91.241500\n",
      "rs       90.842125\n",
      "dtype: float64\n",
      "Ttest_indResult(statistic=3.748931208197849, pvalue=0.00012435073223082557)\n",
      "Ttest_indResult(statistic=14.397023513863479, pvalue=7.394124840632757e-31)\n"
     ]
    }
   ],
   "source": [
    "df = pd.read_json('experiments/results/nasbench201/cifar10/reevaluate/accuracies.json')\n",
    "print(df.mean())\n",
    "print(ttest_ind(df.mtnas, df.re, alternative='greater'))\n",
    "print(ttest_ind(df.mtnas, df.rs, alternative='greater'))"
   ]
  },
  {
   "cell_type": "markdown",
   "id": "2fa2c0b6-15c5-44dd-8393-be8cd25981e3",
   "metadata": {},
   "source": [
    "#### adjusted reevaluate"
   ]
  },
  {
   "cell_type": "code",
   "execution_count": 12,
   "id": "94f4dcaf-444a-4012-8f66-dc58c3c07818",
   "metadata": {
    "tags": []
   },
   "outputs": [
    {
     "name": "stdout",
     "output_type": "stream",
     "text": [
      "mtnas    91.305875\n",
      "re       91.241500\n",
      "rs       90.842125\n",
      "dtype: float64\n",
      "Ttest_indResult(statistic=1.9643504937546357, pvalue=0.025621897027183906)\n",
      "Ttest_indResult(statistic=13.350150441221414, pvalue=5.3251860508014255e-28)\n"
     ]
    }
   ],
   "source": [
    "df = pd.read_json('experiments/results/nasbench201/cifar10/adj_reevaluate/accuracies.json')\n",
    "print(df.mean())\n",
    "print(ttest_ind(df.mtnas, df.re, alternative='greater'))\n",
    "print(ttest_ind(df.mtnas, df.rs, alternative='greater'))"
   ]
  },
  {
   "cell_type": "markdown",
   "id": "b58f5d08-ada0-4cb9-b2b9-476cb2fd0195",
   "metadata": {},
   "source": [
    "## Averages"
   ]
  },
  {
   "cell_type": "code",
   "execution_count": 13,
   "id": "7e287939-93bb-4c3f-ab17-f77f94d88ad1",
   "metadata": {
    "tags": []
   },
   "outputs": [],
   "source": [
    "def per_epoch_averages(paths):\n",
    "    dfs = list()\n",
    "    for path in paths:\n",
    "        df = pd.read_json(path).dropna(axis=1, how='all')\n",
    "        df.columns = pd.MultiIndex.from_tuples(df.columns.map(eval)).rename(['algorithm', 'seed'], level=[0, 1])\n",
    "        df.index.rename('epoch', inplace=True)\n",
    "        df = df.stack([0, 1]).groupby(['epoch', 'algorithm']).mean().unstack(1).drop(('estm', 're'), axis=1)\n",
    "        df.true.re[50:50 + df.true.re.dropna().shape[0]] = df.true.re.dropna()\n",
    "        df.true.re[:50] = np.nan\n",
    "        dfs.append(df)\n",
    "    return dfs"
   ]
  },
  {
   "cell_type": "code",
   "execution_count": 14,
   "id": "eaeb5e08-9727-43f2-9c2c-062b6ca9f2c0",
   "metadata": {
    "tags": []
   },
   "outputs": [],
   "source": [
    "t2h, dflt = per_epoch_averages(('experiments/results/nasbench201/cifar10/tier2high/averages.json',\n",
    "                                'experiments/results/nasbench201/cifar10/default/averages.json'))"
   ]
  },
  {
   "cell_type": "code",
   "execution_count": 15,
   "id": "a13ee133-8260-435c-b040-bf4086e86184",
   "metadata": {
    "tags": []
   },
   "outputs": [
    {
     "data": {
      "text/plain": [
       "Ttest_indResult(statistic=0.12343171690053982, pvalue=0.9018065780669378)"
      ]
     },
     "execution_count": 15,
     "metadata": {},
     "output_type": "execute_result"
    }
   ],
   "source": [
    "ttest_ind(t2h.true.mtnas, dflt.true.mtnas)"
   ]
  }
 ],
 "metadata": {
  "kernelspec": {
   "display_name": "thesis",
   "language": "python",
   "name": "thesis"
  },
  "language_info": {
   "codemirror_mode": {
    "name": "ipython",
    "version": 3
   },
   "file_extension": ".py",
   "mimetype": "text/x-python",
   "name": "python",
   "nbconvert_exporter": "python",
   "pygments_lexer": "ipython3",
   "version": "3.8.16"
  }
 },
 "nbformat": 4,
 "nbformat_minor": 5
}
